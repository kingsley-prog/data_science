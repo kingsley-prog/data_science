{
 "cells": [
  {
   "cell_type": "markdown",
   "id": "d3b30c0e-d160-451a-b739-170d24e48a77",
   "metadata": {},
   "source": [
    "## String interpolation (f-strings)\n",
    "Using the prefix 'f' and use curly braces as a placeholder for variables values."
   ]
  },
  {
   "cell_type": "code",
   "execution_count": 2,
   "id": "09a1a479-d510-43ac-8bcb-084fd5f23099",
   "metadata": {},
   "outputs": [
    {
     "name": "stdout",
     "output_type": "stream",
     "text": [
      "My name is John and I am 30 years old.\n"
     ]
    }
   ],
   "source": [
    "name = 'John'\n",
    "age = 30\n",
    "print(f\"My name is {name} and I am {age} years old.\")"
   ]
  },
  {
   "cell_type": "markdown",
   "id": "1bad7693-284c-47c1-bbc1-fa94e9d13cbd",
   "metadata": {},
   "source": [
    "## str.format()\n",
    "it uses curly braces {} as placeholder for variables. pased to the format() method"
   ]
  },
  {
   "cell_type": "code",
   "execution_count": 5,
   "id": "c5a582bd-7072-4bbe-b07a-2f105af22eed",
   "metadata": {},
   "outputs": [
    {
     "name": "stdout",
     "output_type": "stream",
     "text": [
      "My name is john and I am 60 years old\n"
     ]
    }
   ],
   "source": [
    "name = 'john'\n",
    "age = 60\n",
    "print(\"My name is {} and I am {} years old\".format(name, age))"
   ]
  },
  {
   "cell_type": "markdown",
   "id": "b238b088-be55-4500-a6ae-d4937edbe926",
   "metadata": {},
   "source": [
    "## Using % Operator\n",
    "uses the %"
   ]
  },
  {
   "cell_type": "code",
   "execution_count": 12,
   "id": "49dc0ca2-bc64-4c38-b39e-3eba335fe09d",
   "metadata": {},
   "outputs": [
    {
     "name": "stdout",
     "output_type": "stream",
     "text": [
      "My name is John and I am 30 years old.\n"
     ]
    }
   ],
   "source": [
    "name = \"John\"\n",
    "age = 30\n",
    "print(\"My name is %s and I am %d years old.\" %(name, age))"
   ]
  },
  {
   "cell_type": "markdown",
   "id": "bb6bb317-2fdd-4fdc-8d68-5df35c1ccf27",
   "metadata": {},
   "source": [
    "# Addition Capabilities\n",
    "F-strings can be use to evaluate expressions inside the curly braces\n"
   ]
  },
  {
   "cell_type": "code",
   "execution_count": 19,
   "id": "51e09e2c-becb-4567-b3c4-89fb77dbff9b",
   "metadata": {},
   "outputs": [
    {
     "name": "stdout",
     "output_type": "stream",
     "text": [
      "The sum of x and y is 30.\n"
     ]
    }
   ],
   "source": [
    "x = 10\n",
    "y = 20\n",
    "print(f\"The sum of x and y is {x+y}.\")"
   ]
  },
  {
   "cell_type": "markdown",
   "id": "cbae0840-335e-4d5c-af69-352066c3cdc2",
   "metadata": {},
   "source": [
    "## Raw String (r' ')\n",
    "it is interpreted all characters as literal characters"
   ]
  },
  {
   "cell_type": "code",
   "execution_count": 3,
   "id": "9998409d-b738-41e9-894e-9f937fcede30",
   "metadata": {},
   "outputs": [
    {
     "name": "stdout",
     "output_type": "stream",
     "text": [
      "Regular String: C:\n",
      "ew_folder\f",
      "ile.txt\n"
     ]
    }
   ],
   "source": [
    "regular_string = \"C:\\new_folder\\file.txt\" # suppose to be file path\n",
    "print(\"Regular String:\", regular_string)"
   ]
  },
  {
   "cell_type": "markdown",
   "id": "691e354a-3b88-4f63-abae-b5109b925705",
   "metadata": {},
   "source": [
    "The above interpreted special characters and thus will give a wrong file path. Here comes the raw string to rescue."
   ]
  },
  {
   "cell_type": "code",
   "execution_count": 6,
   "id": "6e6bab7b-631a-4f16-b869-d84f23942e0c",
   "metadata": {},
   "outputs": [
    {
     "name": "stdout",
     "output_type": "stream",
     "text": [
      "Raw String: C:\\new_folder\\file.txt\n"
     ]
    }
   ],
   "source": [
    "raw_string = r\"C:\\new_folder\\file.txt\"\n",
    "print(\"Raw String:\", raw_string)"
   ]
  },
  {
   "cell_type": "code",
   "execution_count": null,
   "id": "c97e5ff2-9588-446c-8911-683fa8afd148",
   "metadata": {},
   "outputs": [],
   "source": []
  }
 ],
 "metadata": {
  "kernelspec": {
   "display_name": "Python 3 (ipykernel)",
   "language": "python",
   "name": "python3"
  },
  "language_info": {
   "codemirror_mode": {
    "name": "ipython",
    "version": 3
   },
   "file_extension": ".py",
   "mimetype": "text/x-python",
   "name": "python",
   "nbconvert_exporter": "python",
   "pygments_lexer": "ipython3",
   "version": "3.11.7"
  }
 },
 "nbformat": 4,
 "nbformat_minor": 5
}
