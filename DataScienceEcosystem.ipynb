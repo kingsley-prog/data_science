{
 "cells": [
  {
   "cell_type": "markdown",
   "id": "973b5377-6e01-4f27-918a-2142bf0ca5bf",
   "metadata": {},
   "source": [
    "#### Exercise 2 : Create markdown cell with title of the notebook"
   ]
  },
  {
   "cell_type": "markdown",
   "id": "ce0abd79-ea8a-4eb1-933b-7824c6dfa633",
   "metadata": {},
   "source": [
    "# Data Science Tools and Ecosystem"
   ]
  },
  {
   "cell_type": "markdown",
   "id": "17e3c3e9-d90b-42fe-9bc7-95e32a2f1151",
   "metadata": {},
   "source": [
    "#### Exercise 3 - Create a markdown cell for an introduction"
   ]
  },
  {
   "cell_type": "markdown",
   "id": "81494d8c-37ca-41f6-b5f8-3933be6781b0",
   "metadata": {},
   "source": [
    "In this notebook, Data Science Tools and Ecosystem are summarised."
   ]
  },
  {
   "cell_type": "markdown",
   "id": "fedd4cfb-5869-41d8-9a4c-06f16264edc1",
   "metadata": {},
   "source": [
    "#### Exercise 10 - Insert a Markdown Cell to List Objectives"
   ]
  },
  {
   "cell_type": "markdown",
   "id": "6fd116ce-41dc-489b-b5b8-4541f52067cd",
   "metadata": {},
   "source": [
    "**Objectives:**\n",
    "+ List Data Science Popular Languages\n",
    "+ List of Data Science Libraries\n",
    "+ List of Data Science Tools\n",
    "+ Performating Arithmetics Operation in notebook\n",
    "  "
   ]
  },
  {
   "cell_type": "markdown",
   "id": "31b1ee9f-56ce-4af0-9944-8cb6bb3d7013",
   "metadata": {},
   "source": [
    "#### Exercise 4 - Create a markdown cell to list data science languages"
   ]
  },
  {
   "cell_type": "markdown",
   "id": "d9f5ad24-efd6-40b5-a262-0a7395484634",
   "metadata": {},
   "source": [
    "Some of the popular languages that Data Scientist use are:\n",
    "\n",
    "1. Julia\n",
    "2. Python\n",
    "3. Java\n",
    "4. Scala\n",
    "5. R\n",
    "6. Sql"
   ]
  },
  {
   "cell_type": "markdown",
   "id": "de1cac78-c1d0-4a3f-90da-aa2861fd97cb",
   "metadata": {},
   "source": [
    "#### Exercise 5 - Create a markdown cell to list data science libraries\n"
   ]
  },
  {
   "cell_type": "markdown",
   "id": "c7713a30-64ca-418d-b476-68f8bae16a2c",
   "metadata": {},
   "source": [
    "Some of the commonly used libraries used by Data Scientists include:\n",
    "\n",
    "1. Numpy\n",
    "2. Pandas\n",
    "3. Scipy\n",
    "4. Matplolib\n",
    "5. Seaborn\n",
    "6. Scikitlearn\n",
    "7. Pytorch\n",
    "8. Keras\n",
    "9. Folium\n"
   ]
  },
  {
   "cell_type": "markdown",
   "id": "9e5f4d97-5d0d-45a5-89cf-964f15d6587c",
   "metadata": {},
   "source": [
    "#### Exercise 6 - Create a markdown cell with a table of Data Science tools\n",
    "\n"
   ]
  },
  {
   "cell_type": "markdown",
   "id": "156183f8-cb4f-471c-a3a0-c0cb05d5ac18",
   "metadata": {},
   "source": [
    "| Data Science Tools |\n",
    "| ------------------ |\n",
    "| Jupyter Notebook|\n",
    "| Google Codelab |\n",
    "| Anaconda |\n",
    "| Vs Code |"
   ]
  },
  {
   "cell_type": "markdown",
   "id": "a71d6940-793b-472a-979e-92053a74320e",
   "metadata": {},
   "source": [
    "#### Exercise 7 - Create a markdown cell introducing arithmetic expression example"
   ]
  },
  {
   "cell_type": "markdown",
   "id": "53fd5460-6795-43b1-8723-1a3e4a1ef1fa",
   "metadata": {},
   "source": [
    "### Below are a few examples of evaluating arithmetic expressions in python"
   ]
  },
  {
   "cell_type": "code",
   "execution_count": 2,
   "id": "4578a370-b4aa-4f9e-ac52-5c1c49834b3a",
   "metadata": {},
   "outputs": [
    {
     "name": "stdout",
     "output_type": "stream",
     "text": [
      "6\n",
      "0.6666666666666666\n",
      "-1\n",
      "5\n"
     ]
    }
   ],
   "source": [
    "x = 2\n",
    "y = 3\n",
    "\n",
    "print(x * y)\n",
    "print(x / y)\n",
    "\n",
    "print(x - y)\n",
    "print(x + y)\n"
   ]
  },
  {
   "cell_type": "code",
   "execution_count": 3,
   "id": "104de79c-775c-4fd7-8021-8057e08983b2",
   "metadata": {},
   "outputs": [
    {
     "name": "stdout",
     "output_type": "stream",
     "text": [
      "64\n"
     ]
    }
   ],
   "source": [
    "y = pow(4,3)\n",
    "print(y)"
   ]
  },
  {
   "cell_type": "markdown",
   "id": "e6fae220-6099-4090-b8ba-01dd76b5540e",
   "metadata": {},
   "source": [
    "#### Excersise 8 - Create  a code cell to multiply and add numbers"
   ]
  },
  {
   "cell_type": "code",
   "execution_count": 4,
   "id": "0a5094c0-ca4f-4d91-abe8-fdeaf9fee719",
   "metadata": {},
   "outputs": [
    {
     "data": {
      "text/plain": [
       "17"
      ]
     },
     "execution_count": 4,
     "metadata": {},
     "output_type": "execute_result"
    }
   ],
   "source": [
    "# This is a simple arithmetic expression to multiply then add integers\n",
    "(3*4)+5"
   ]
  },
  {
   "cell_type": "markdown",
   "id": "4c3c2735-79fc-483e-b825-e3b48abd14e4",
   "metadata": {},
   "source": [
    "#### Exercise 9 - Create a code cell to convert minutes to hours"
   ]
  },
  {
   "cell_type": "code",
   "execution_count": 8,
   "id": "9ac61eeb-c5ca-44ef-bdcb-f53771819a1e",
   "metadata": {},
   "outputs": [
    {
     "name": "stdout",
     "output_type": "stream",
     "text": [
      "3 hours\n"
     ]
    }
   ],
   "source": [
    "# This will convert 200 minutes to hours by dividing by 60\n",
    "x = 200\n",
    "print(round( 200 / 60), \"hours\")"
   ]
  },
  {
   "cell_type": "markdown",
   "id": "fc5812ee-5bb2-4839-a1e1-7f8d9b1cb172",
   "metadata": {},
   "source": [
    "#### Exercise 10 - Insert a markdown cell to list Objectives"
   ]
  },
  {
   "cell_type": "markdown",
   "id": "63b74206-e60a-458c-8e31-f51f03ab3d0e",
   "metadata": {},
   "source": [
    "#### Excersice 11 - Create a markdown cell to indicate the Author's name"
   ]
  },
  {
   "cell_type": "markdown",
   "id": "8a3f86c1-2bb2-4b0c-bd9c-683be6f0cb3d",
   "metadata": {},
   "source": [
    "## Author\n",
    "Lawani Abiola Kingsley"
   ]
  },
  {
   "cell_type": "code",
   "execution_count": null,
   "id": "a06dacf4-0b2e-4db6-8e26-7a7a90218e4d",
   "metadata": {},
   "outputs": [],
   "source": []
  },
  {
   "cell_type": "code",
   "execution_count": null,
   "id": "8b3eb190-2e84-4ea5-895c-3edaddcb5139",
   "metadata": {},
   "outputs": [],
   "source": []
  }
 ],
 "metadata": {
  "kernelspec": {
   "display_name": "Python 3 (ipykernel)",
   "language": "python",
   "name": "python3"
  },
  "language_info": {
   "codemirror_mode": {
    "name": "ipython",
    "version": 3
   },
   "file_extension": ".py",
   "mimetype": "text/x-python",
   "name": "python",
   "nbconvert_exporter": "python",
   "pygments_lexer": "ipython3",
   "version": "3.11.9"
  }
 },
 "nbformat": 4,
 "nbformat_minor": 5
}
